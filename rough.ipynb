{
 "cells": [
  {
   "cell_type": "code",
   "execution_count": null,
   "metadata": {},
   "outputs": [],
   "source": [
    "def schoolCount(df):\n",
    "    df['no_of_subjects'] = len(df['subjects'].split(' '))\n",
    "    \n",
    "    # drop rows with less than 3 subjects\n",
    "    df = df[df['no_of_subjects'] >= 3]\n",
    "\n",
    "    # clean the 'state_code' column such that it only contains alpha numeric characters\n",
    "    df['state_code'] = df['state_code'].str.replace(r'\\W', '')\n",
    "\n",
    "    # create 4 new columns : 'english', 'maths' 'physics' 'chemistry'\n",
    "    df['english'] = df['subjects'].apply(lambda x: 1 if 'english' in x else 0)\n",
    "    df['maths'] = df['subjects'].apply(lambda x: 1 if 'maths' in x else 0)\n",
    "    df['physics'] = df['subjects'].apply(lambda x: 1 if 'physics' in x else 0)\n",
    "    df['chemistry'] = df['subjects'].apply(lambda x: 1 if 'chemistry' in x else 0)\n",
    "\n",
    "    # create a new dataframe with with columns : 'state_code', 'english', 'maths' 'physics' 'chemistry'\n",
    "    df = df[['state_code', 'english', 'maths', 'physics', 'chemistry']]\n",
    "\n",
    "    # group by 'state_code' and sum the values of 'english', 'maths' 'physics' 'chemistry'\n",
    "    df = df.groupby('state_code').sum()\n",
    "\n",
    "    return df"
   ]
  },
  {
   "cell_type": "code",
   "execution_count": 1,
   "metadata": {},
   "outputs": [
    {
     "name": "stdout",
     "output_type": "stream",
     "text": [
      "['sdkfj', 'ksd', 'kfsdj', 'fks']\n"
     ]
    }
   ],
   "source": [
    "asd = \"sdkfj ksd kfsdj fks\"\n",
    "print(asd.split(' '))"
   ]
  },
  {
   "cell_type": "code",
   "execution_count": null,
   "metadata": {},
   "outputs": [],
   "source": []
  }
 ],
 "metadata": {
  "kernelspec": {
   "display_name": "Python 3",
   "language": "python",
   "name": "python3"
  },
  "language_info": {
   "codemirror_mode": {
    "name": "ipython",
    "version": 3
   },
   "file_extension": ".py",
   "mimetype": "text/x-python",
   "name": "python",
   "nbconvert_exporter": "python",
   "pygments_lexer": "ipython3",
   "version": "3.9.6"
  }
 },
 "nbformat": 4,
 "nbformat_minor": 2
}
