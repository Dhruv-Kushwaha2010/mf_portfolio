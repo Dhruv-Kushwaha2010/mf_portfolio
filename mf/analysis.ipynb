{
 "cells": [
  {
   "cell_type": "code",
   "execution_count": 10,
   "metadata": {},
   "outputs": [],
   "source": [
    "import pandas as pd\n",
    "import numpy as np\n",
    "import datetime as dt\n",
    "import plotly.express as px\n",
    "import plotly.graph_objects as go\n",
    "import os\n",
    "from docx import Document\n",
    "from tqdm import tqdm"
   ]
  },
  {
   "cell_type": "code",
   "execution_count": 8,
   "metadata": {},
   "outputs": [],
   "source": [
    "curr_path = os.path.dirname(os.path.realpath(__name__))\n",
    "data_dir = os.path.join(curr_path, 'data')\n",
    "\n",
    "# list dir without .DS_Store\n",
    "data_folders = [f for f in os.listdir(data_dir) if not f.startswith('.')]"
   ]
  },
  {
   "cell_type": "code",
   "execution_count": 9,
   "metadata": {},
   "outputs": [
    {
     "data": {
      "text/plain": [
       "['arbitrage',\n",
       " 'multi_asset',\n",
       " 'conservative_hybrid',\n",
       " 'equity_savings',\n",
       " 'aggressive_hybrid']"
      ]
     },
     "execution_count": 9,
     "metadata": {},
     "output_type": "execute_result"
    }
   ],
   "source": [
    "data_folders"
   ]
  },
  {
   "cell_type": "code",
   "execution_count": null,
   "metadata": {},
   "outputs": [],
   "source": [
    "dfs = {}\n",
    "for data_folder in data_folders:\n",
    "    dfs[data_folder] = {}\n",
    "    curr_path = os.path.join(data_dir, data_folder)\n",
    "    files = os.listdir(curr_path)\n",
    "    for file in tqdm(files):\n",
    "        if file.endswith('.docx'):\n",
    "            doc = Document(os.path.join(curr_path, file))\n",
    "            table = doc.tables[0]\n",
    "            data = []\n",
    "            for row in table.rows:\n",
    "                data.append([cell.text for cell in row.cells])\n",
    "\n",
    "            df = pd.DataFrame(data)\n",
    "\n",
    "            # rename columns and drop first 5 rows\n",
    "            df.columns = df.iloc[4].values\n",
    "            df = df[5:]\n",
    "            df.index = df['NAV date']\n",
    "            df.index.name = 'date'\n",
    "            df.index = pd.to_datetime(df.index)\n",
    "            df = df.iloc[:, :1]\n",
    "\n",
    "            dfs[data_folder][file.split('.')[0]] = df"
   ]
  }
 ],
 "metadata": {
  "kernelspec": {
   "display_name": "north",
   "language": "python",
   "name": "python3"
  },
  "language_info": {
   "codemirror_mode": {
    "name": "ipython",
    "version": 3
   },
   "file_extension": ".py",
   "mimetype": "text/x-python",
   "name": "python",
   "nbconvert_exporter": "python",
   "pygments_lexer": "ipython3",
   "version": "3.12.7"
  }
 },
 "nbformat": 4,
 "nbformat_minor": 2
}
