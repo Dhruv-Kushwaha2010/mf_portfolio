{
 "cells": [
  {
   "cell_type": "code",
   "execution_count": 70,
   "metadata": {},
   "outputs": [],
   "source": [
    "import pandas as pd\n",
    "import numpy as np\n",
    "import datetime as dt\n",
    "import plotly.express as px\n",
    "import plotly.graph_objects as go\n",
    "import os\n",
    "from docx import Document\n",
    "from tqdm import tqdm"
   ]
  },
  {
   "cell_type": "code",
   "execution_count": 71,
   "metadata": {},
   "outputs": [],
   "source": [
    "curr_path = os.path.dirname(os.path.realpath(__name__))\n",
    "data_dir = os.path.join(curr_path, 'data')\n",
    "\n",
    "# list dir without .DS_Store\n",
    "data_folders = [f for f in os.listdir(data_dir) if not f.startswith('.')]"
   ]
  },
  {
   "cell_type": "code",
   "execution_count": 72,
   "metadata": {},
   "outputs": [
    {
     "data": {
      "text/plain": [
       "['arbitrage',\n",
       " 'multi_asset',\n",
       " 'conservative_hybrid',\n",
       " 'equity_savings',\n",
       " 'aggressive_hybrid']"
      ]
     },
     "execution_count": 72,
     "metadata": {},
     "output_type": "execute_result"
    }
   ],
   "source": [
    "data_folders"
   ]
  },
  {
   "cell_type": "code",
   "execution_count": 73,
   "metadata": {},
   "outputs": [
    {
     "name": "stdout",
     "output_type": "stream",
     "text": [
      "Processing arbitrage folder\n"
     ]
    },
    {
     "name": "stderr",
     "output_type": "stream",
     "text": [
      "100%|██████████| 5/5 [00:01<00:00,  4.23it/s]\n"
     ]
    },
    {
     "name": "stdout",
     "output_type": "stream",
     "text": [
      "Processing multi_asset folder\n"
     ]
    },
    {
     "name": "stderr",
     "output_type": "stream",
     "text": [
      "100%|██████████| 5/5 [00:00<00:00,  5.09it/s]\n"
     ]
    },
    {
     "name": "stdout",
     "output_type": "stream",
     "text": [
      "Processing conservative_hybrid folder\n"
     ]
    },
    {
     "name": "stderr",
     "output_type": "stream",
     "text": [
      "100%|██████████| 5/5 [00:01<00:00,  4.33it/s]\n"
     ]
    },
    {
     "name": "stdout",
     "output_type": "stream",
     "text": [
      "Processing equity_savings folder\n"
     ]
    },
    {
     "name": "stderr",
     "output_type": "stream",
     "text": [
      "100%|██████████| 5/5 [00:01<00:00,  4.26it/s]\n"
     ]
    },
    {
     "name": "stdout",
     "output_type": "stream",
     "text": [
      "Processing aggressive_hybrid folder\n"
     ]
    },
    {
     "name": "stderr",
     "output_type": "stream",
     "text": [
      "100%|██████████| 5/5 [00:01<00:00,  4.11it/s]\n"
     ]
    }
   ],
   "source": [
    "dfs = {}\n",
    "for data_folder in data_folders:\n",
    "    dfs[data_folder] = {}\n",
    "    curr_path = os.path.join(data_dir, data_folder)\n",
    "    files = [f for f in os.listdir(curr_path) if not f.startswith('.')]\n",
    "    print(f\"Processing {data_folder} folder\")\n",
    "    for file in tqdm(files):\n",
    "        if file.endswith('.docx'):\n",
    "            doc = Document(os.path.join(curr_path, file))\n",
    "            table = doc.tables[0]\n",
    "            data = []\n",
    "            for row in table.rows:\n",
    "                data.append([cell.text for cell in row.cells])\n",
    "\n",
    "            df = pd.DataFrame(data)\n",
    "\n",
    "            # rename columns and drop first 5 rows\n",
    "            df.columns = df.iloc[4].values\n",
    "            df = df[5:]\n",
    "            df.index = df['NAV date']\n",
    "            df.index.name = 'date'\n",
    "            indexes = []\n",
    "            for ind in df.index:\n",
    "                indexes.append(ind.split('<')[0])\n",
    "            df.index = indexes\n",
    "            # display(df.head(10))\n",
    "            # print(df.index[:10])\n",
    "            try:\n",
    "                df.index = pd.to_datetime(df.index)\n",
    "                \n",
    "            except:\n",
    "                try:\n",
    "                    df.index = pd.to_datetime(df.index, format=\"%d-%b-%Y\")\n",
    "                except:\n",
    "                    index_list.append(df.index)\n",
    "                    print(f\"type of index: {type(df.index[0])}\")\n",
    "                    display(df.head(1))\n",
    "                    print(f\"Error converting date in {file}\")\n",
    "    \n",
    "            df = df.iloc[:, :1]\n",
    "\n",
    "            dfs[data_folder][file.split('.')[0]] = df"
   ]
  },
  {
   "cell_type": "code",
   "execution_count": 74,
   "metadata": {},
   "outputs": [
    {
     "data": {
      "text/plain": [
       "dict_keys(['arbitrage', 'multi_asset', 'conservative_hybrid', 'equity_savings', 'aggressive_hybrid'])"
      ]
     },
     "execution_count": 74,
     "metadata": {},
     "output_type": "execute_result"
    }
   ],
   "source": [
    "dfs.keys()"
   ]
  },
  {
   "cell_type": "code",
   "execution_count": 75,
   "metadata": {},
   "outputs": [
    {
     "data": {
      "text/plain": [
       "dict_keys(['Invesco_India_Arbitrage_Fund', 'Kotak_Equity_Arbitrage_Fund', 'SBI_Arbitrage_Opportunities_Fund', 'ICICI_Prudential_Equity_Arbitrage_Fund', 'HDFC_Arbitrage_Fund_Wholesale_Plan'])"
      ]
     },
     "execution_count": 75,
     "metadata": {},
     "output_type": "execute_result"
    }
   ],
   "source": [
    "dfs['arbitrage'].keys()"
   ]
  },
  {
   "cell_type": "code",
   "execution_count": 76,
   "metadata": {},
   "outputs": [
    {
     "data": {
      "text/html": [
       "<div>\n",
       "<style scoped>\n",
       "    .dataframe tbody tr th:only-of-type {\n",
       "        vertical-align: middle;\n",
       "    }\n",
       "\n",
       "    .dataframe tbody tr th {\n",
       "        vertical-align: top;\n",
       "    }\n",
       "\n",
       "    .dataframe thead th {\n",
       "        text-align: right;\n",
       "    }\n",
       "</style>\n",
       "<table border=\"1\" class=\"dataframe\">\n",
       "  <thead>\n",
       "    <tr style=\"text-align: right;\">\n",
       "      <th></th>\n",
       "      <th>Net Asset Value</th>\n",
       "    </tr>\n",
       "  </thead>\n",
       "  <tbody>\n",
       "    <tr>\n",
       "      <th>2020-03-02</th>\n",
       "      <td>24.8453</td>\n",
       "    </tr>\n",
       "    <tr>\n",
       "      <th>2020-03-03</th>\n",
       "      <td>24.836</td>\n",
       "    </tr>\n",
       "    <tr>\n",
       "      <th>2020-03-04</th>\n",
       "      <td>24.8369</td>\n",
       "    </tr>\n",
       "    <tr>\n",
       "      <th>2020-03-05</th>\n",
       "      <td>24.8587</td>\n",
       "    </tr>\n",
       "    <tr>\n",
       "      <th>2020-03-06</th>\n",
       "      <td>24.8667</td>\n",
       "    </tr>\n",
       "    <tr>\n",
       "      <th>...</th>\n",
       "      <td>...</td>\n",
       "    </tr>\n",
       "    <tr>\n",
       "      <th>2025-02-14</th>\n",
       "      <td>33.5898</td>\n",
       "    </tr>\n",
       "    <tr>\n",
       "      <th>2025-02-17</th>\n",
       "      <td>33.5797</td>\n",
       "    </tr>\n",
       "    <tr>\n",
       "      <th>2025-02-18</th>\n",
       "      <td>33.6183</td>\n",
       "    </tr>\n",
       "    <tr>\n",
       "      <th>2025-02-19</th>\n",
       "      <td>33.6177</td>\n",
       "    </tr>\n",
       "    <tr>\n",
       "      <th>2025-02-20</th>\n",
       "      <td>33.6235</td>\n",
       "    </tr>\n",
       "  </tbody>\n",
       "</table>\n",
       "<p>1285 rows × 1 columns</p>\n",
       "</div>"
      ],
      "text/plain": [
       "           Net Asset Value\n",
       "2020-03-02         24.8453\n",
       "2020-03-03          24.836\n",
       "2020-03-04         24.8369\n",
       "2020-03-05         24.8587\n",
       "2020-03-06         24.8667\n",
       "...                    ...\n",
       "2025-02-14         33.5898\n",
       "2025-02-17         33.5797\n",
       "2025-02-18         33.6183\n",
       "2025-02-19         33.6177\n",
       "2025-02-20         33.6235\n",
       "\n",
       "[1285 rows x 1 columns]"
      ]
     },
     "execution_count": 76,
     "metadata": {},
     "output_type": "execute_result"
    }
   ],
   "source": [
    "dfs['arbitrage']['Invesco_India_Arbitrage_Fund']"
   ]
  },
  {
   "cell_type": "code",
   "execution_count": 78,
   "metadata": {},
   "outputs": [
    {
     "name": "stdout",
     "output_type": "stream",
     "text": [
      "1285\n",
      "1285\n",
      "1288\n",
      "1285\n",
      "1285\n"
     ]
    }
   ],
   "source": [
    "for df in dfs['arbitrage'].values():\n",
    "\n",
    "    print(len(df.index))"
   ]
  },
  {
   "cell_type": "code",
   "execution_count": 79,
   "metadata": {},
   "outputs": [
    {
     "name": "stdout",
     "output_type": "stream",
     "text": [
      "arbitrage:\n",
      "Invesco_India_Arbitrage_Fund: 1285\n",
      "Kotak_Equity_Arbitrage_Fund: 1285\n",
      "SBI_Arbitrage_Opportunities_Fund: 1288\n",
      "ICICI_Prudential_Equity_Arbitrage_Fund: 1285\n",
      "HDFC_Arbitrage_Fund_Wholesale_Plan: 1285\n",
      "multi_asset:\n",
      "SBI_Multi_Asset_Allocation_Fund: 1263\n",
      "ICICI_Prudential_Multi_Asset_Fund: 1285\n",
      "Nippon_India_Multi_Asset_Allocation_Fund: 1106\n",
      "Kotak_Multi_Asset_Allocation_Fund: 343\n",
      "UTI_Multi_Asset_Allocation_Fund: 1285\n",
      "conservative_hybrid:\n",
      "HDFC_Hybrid_Debt_Fund: 1261\n",
      "SBI_Conservative_Hybrid_Fund: 1263\n",
      "Kotak_Debt_Hybrid_Fund: 1260\n",
      "ICICI_Prudential_Regular_Savings_Fund: 1260\n",
      "UTI_Conservative_Hybrid_Fund: 1260\n",
      "equity_savings:\n",
      "ICICI_Prudential_Equity_Savings_Fund: 1285\n",
      "HDFC_Equity_Savings_Fund: 1285\n",
      "Kotak_Equity_Savings_Fund: 1285\n",
      "SBI_Equity_Savings_Fund: 1289\n",
      "DSP_Equity_Savings_Fund: 1285\n",
      "aggressive_hybrid:\n",
      "Canara_Robeco_Equity_Hybrid_fund: 1285\n",
      "DSP_Aggresive_Hybrid_Fund: 1285\n",
      "HDFC_Hybrid_Equity_Fund: 1285\n",
      "SBI_Equity_Hybrid_Fund: 1288\n",
      "ICICI_Prudential_Equity_and_Debt_Fund: 1285\n"
     ]
    }
   ],
   "source": [
    "for big_key in dfs.keys():\n",
    "    print(f\"{big_key}:\")\n",
    "    for key, df in dfs[big_key].items():\n",
    "        print(f\"{key}: {len(df.index)}\")"
   ]
  },
  {
   "cell_type": "code",
   "execution_count": 80,
   "metadata": {},
   "outputs": [
    {
     "data": {
      "text/html": [
       "<div>\n",
       "<style scoped>\n",
       "    .dataframe tbody tr th:only-of-type {\n",
       "        vertical-align: middle;\n",
       "    }\n",
       "\n",
       "    .dataframe tbody tr th {\n",
       "        vertical-align: top;\n",
       "    }\n",
       "\n",
       "    .dataframe thead th {\n",
       "        text-align: right;\n",
       "    }\n",
       "</style>\n",
       "<table border=\"1\" class=\"dataframe\">\n",
       "  <thead>\n",
       "    <tr style=\"text-align: right;\">\n",
       "      <th></th>\n",
       "      <th>Net Asset Value</th>\n",
       "    </tr>\n",
       "  </thead>\n",
       "  <tbody>\n",
       "    <tr>\n",
       "      <th>2025-02-14</th>\n",
       "      <td>33.5898</td>\n",
       "    </tr>\n",
       "    <tr>\n",
       "      <th>2025-02-17</th>\n",
       "      <td>33.5797</td>\n",
       "    </tr>\n",
       "    <tr>\n",
       "      <th>2025-02-18</th>\n",
       "      <td>33.6183</td>\n",
       "    </tr>\n",
       "    <tr>\n",
       "      <th>2025-02-19</th>\n",
       "      <td>33.6177</td>\n",
       "    </tr>\n",
       "    <tr>\n",
       "      <th>2025-02-20</th>\n",
       "      <td>33.6235</td>\n",
       "    </tr>\n",
       "  </tbody>\n",
       "</table>\n",
       "</div>"
      ],
      "text/plain": [
       "           Net Asset Value\n",
       "2025-02-14         33.5898\n",
       "2025-02-17         33.5797\n",
       "2025-02-18         33.6183\n",
       "2025-02-19         33.6177\n",
       "2025-02-20         33.6235"
      ]
     },
     "execution_count": 80,
     "metadata": {},
     "output_type": "execute_result"
    }
   ],
   "source": [
    "dfs['arbitrage']['Invesco_India_Arbitrage_Fund'].tail()"
   ]
  },
  {
   "cell_type": "code",
   "execution_count": null,
   "metadata": {},
   "outputs": [],
   "source": []
  },
  {
   "cell_type": "code",
   "execution_count": 81,
   "metadata": {},
   "outputs": [
    {
     "data": {
      "text/html": [
       "<div>\n",
       "<style scoped>\n",
       "    .dataframe tbody tr th:only-of-type {\n",
       "        vertical-align: middle;\n",
       "    }\n",
       "\n",
       "    .dataframe tbody tr th {\n",
       "        vertical-align: top;\n",
       "    }\n",
       "\n",
       "    .dataframe thead th {\n",
       "        text-align: right;\n",
       "    }\n",
       "</style>\n",
       "<table border=\"1\" class=\"dataframe\">\n",
       "  <thead>\n",
       "    <tr style=\"text-align: right;\">\n",
       "      <th></th>\n",
       "      <th>Net Asset Value</th>\n",
       "    </tr>\n",
       "  </thead>\n",
       "  <tbody>\n",
       "    <tr>\n",
       "      <th>2020-03-02</th>\n",
       "      <td>139.44</td>\n",
       "    </tr>\n",
       "    <tr>\n",
       "      <th>2020-03-03</th>\n",
       "      <td>142.24</td>\n",
       "    </tr>\n",
       "    <tr>\n",
       "      <th>2020-03-04</th>\n",
       "      <td>141.66</td>\n",
       "    </tr>\n",
       "    <tr>\n",
       "      <th>2020-03-05</th>\n",
       "      <td>141.47</td>\n",
       "    </tr>\n",
       "    <tr>\n",
       "      <th>2020-03-06</th>\n",
       "      <td>138.48</td>\n",
       "    </tr>\n",
       "    <tr>\n",
       "      <th>...</th>\n",
       "      <td>...</td>\n",
       "    </tr>\n",
       "    <tr>\n",
       "      <th>2025-02-14</th>\n",
       "      <td>393.00</td>\n",
       "    </tr>\n",
       "    <tr>\n",
       "      <th>2025-02-17</th>\n",
       "      <td>393.39</td>\n",
       "    </tr>\n",
       "    <tr>\n",
       "      <th>2025-02-18</th>\n",
       "      <td>393.86</td>\n",
       "    </tr>\n",
       "    <tr>\n",
       "      <th>2025-02-19</th>\n",
       "      <td>394.89</td>\n",
       "    </tr>\n",
       "    <tr>\n",
       "      <th>2025-02-20</th>\n",
       "      <td>395.30</td>\n",
       "    </tr>\n",
       "  </tbody>\n",
       "</table>\n",
       "<p>1285 rows × 1 columns</p>\n",
       "</div>"
      ],
      "text/plain": [
       "           Net Asset Value\n",
       "2020-03-02          139.44\n",
       "2020-03-03          142.24\n",
       "2020-03-04          141.66\n",
       "2020-03-05          141.47\n",
       "2020-03-06          138.48\n",
       "...                    ...\n",
       "2025-02-14          393.00\n",
       "2025-02-17          393.39\n",
       "2025-02-18          393.86\n",
       "2025-02-19          394.89\n",
       "2025-02-20          395.30\n",
       "\n",
       "[1285 rows x 1 columns]"
      ]
     },
     "execution_count": 81,
     "metadata": {},
     "output_type": "execute_result"
    }
   ],
   "source": [
    "df"
   ]
  },
  {
   "cell_type": "code",
   "execution_count": null,
   "metadata": {},
   "outputs": [],
   "source": []
  }
 ],
 "metadata": {
  "kernelspec": {
   "display_name": "north",
   "language": "python",
   "name": "python3"
  },
  "language_info": {
   "codemirror_mode": {
    "name": "ipython",
    "version": 3
   },
   "file_extension": ".py",
   "mimetype": "text/x-python",
   "name": "python",
   "nbconvert_exporter": "python",
   "pygments_lexer": "ipython3",
   "version": "3.12.7"
  }
 },
 "nbformat": 4,
 "nbformat_minor": 2
}
