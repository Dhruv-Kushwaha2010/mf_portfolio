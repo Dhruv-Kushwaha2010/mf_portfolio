{
 "cells": [
  {
   "cell_type": "code",
   "execution_count": 186,
   "metadata": {},
   "outputs": [],
   "source": [
    "import pandas as pd\n",
    "import numpy as np\n",
    "import datetime as dt\n",
    "import plotly.express as px\n",
    "import plotly.graph_objects as go\n",
    "import os\n",
    "from docx import Document\n",
    "from tqdm import tqdm"
   ]
  },
  {
   "cell_type": "code",
   "execution_count": 187,
   "metadata": {},
   "outputs": [],
   "source": [
    "curr_path = os.path.dirname(os.path.realpath(__name__))\n",
    "data_dir = os.path.join(curr_path, 'data')\n",
    "\n",
    "# list dir without .DS_Store\n",
    "data_folders = [f for f in os.listdir(data_dir) if not f.startswith('.')]"
   ]
  },
  {
   "cell_type": "code",
   "execution_count": 188,
   "metadata": {},
   "outputs": [
    {
     "data": {
      "text/plain": [
       "['arbitrage',\n",
       " 'multi_asset',\n",
       " 'conservative_hybrid',\n",
       " 'equity_savings',\n",
       " 'aggressive_hybrid']"
      ]
     },
     "execution_count": 188,
     "metadata": {},
     "output_type": "execute_result"
    }
   ],
   "source": [
    "data_folders"
   ]
  },
  {
   "cell_type": "code",
   "execution_count": 189,
   "metadata": {},
   "outputs": [
    {
     "name": "stdout",
     "output_type": "stream",
     "text": [
      "Processing arbitrage folder\n"
     ]
    },
    {
     "name": "stderr",
     "output_type": "stream",
     "text": [
      "100%|██████████| 5/5 [00:01<00:00,  4.10it/s]\n"
     ]
    },
    {
     "name": "stdout",
     "output_type": "stream",
     "text": [
      "Processing multi_asset folder\n"
     ]
    },
    {
     "name": "stderr",
     "output_type": "stream",
     "text": [
      "100%|██████████| 5/5 [00:00<00:00,  5.08it/s]\n"
     ]
    },
    {
     "name": "stdout",
     "output_type": "stream",
     "text": [
      "Processing conservative_hybrid folder\n"
     ]
    },
    {
     "name": "stderr",
     "output_type": "stream",
     "text": [
      "100%|██████████| 5/5 [00:01<00:00,  4.20it/s]\n"
     ]
    },
    {
     "name": "stdout",
     "output_type": "stream",
     "text": [
      "Processing equity_savings folder\n"
     ]
    },
    {
     "name": "stderr",
     "output_type": "stream",
     "text": [
      "100%|██████████| 5/5 [00:01<00:00,  3.86it/s]\n"
     ]
    },
    {
     "name": "stdout",
     "output_type": "stream",
     "text": [
      "Processing aggressive_hybrid folder\n"
     ]
    },
    {
     "name": "stderr",
     "output_type": "stream",
     "text": [
      "100%|██████████| 5/5 [00:01<00:00,  4.08it/s]\n"
     ]
    }
   ],
   "source": [
    "dfs = {}\n",
    "for data_folder in data_folders:\n",
    "    dfs[data_folder] = {}\n",
    "    curr_path = os.path.join(data_dir, data_folder)\n",
    "    files = [f for f in os.listdir(curr_path) if not f.startswith('.')]\n",
    "    print(f\"Processing {data_folder} folder\")\n",
    "    for file in tqdm(files):\n",
    "        if file.endswith('.docx'):\n",
    "            doc = Document(os.path.join(curr_path, file))\n",
    "            table = doc.tables[0]\n",
    "            data = []\n",
    "            for row in table.rows:\n",
    "                data.append([cell.text for cell in row.cells])\n",
    "\n",
    "            df = pd.DataFrame(data)\n",
    "\n",
    "            # rename columns and drop first 5 rows\n",
    "            df.columns = df.iloc[4].values\n",
    "            df = df[5:]\n",
    "            df.index = df['NAV date']\n",
    "            df.index.name = 'date'\n",
    "            indexes = []\n",
    "            for ind in df.index:\n",
    "                indexes.append(ind.split('<')[0])\n",
    "            df.index = indexes\n",
    "            # display(df.head(10))\n",
    "            # print(df.index[:10])\n",
    "            try:\n",
    "                df.index = pd.to_datetime(df.index)\n",
    "                \n",
    "            except:\n",
    "                try:\n",
    "                    df.index = pd.to_datetime(df.index, format=\"%d-%b-%Y\")\n",
    "                except:\n",
    "                    print(f\"type of index: {type(df.index[0])}\")\n",
    "                    display(df.head(1))\n",
    "                    print(f\"Error converting date in {file}\")\n",
    "    \n",
    "            df = df.iloc[:, :1]\n",
    "            df = df.add_suffix(f'_{file.split(\".\")[0]}')\n",
    "            # df = df[~df.index.duplicated(keep='first')]\n",
    "            \n",
    "            dfs[data_folder][file.split('.')[0]] = df"
   ]
  },
  {
   "cell_type": "code",
   "execution_count": 190,
   "metadata": {},
   "outputs": [
    {
     "data": {
      "text/plain": [
       "dict_keys(['arbitrage', 'multi_asset', 'conservative_hybrid', 'equity_savings', 'aggressive_hybrid'])"
      ]
     },
     "execution_count": 190,
     "metadata": {},
     "output_type": "execute_result"
    }
   ],
   "source": [
    "dfs.keys()"
   ]
  },
  {
   "cell_type": "code",
   "execution_count": 191,
   "metadata": {},
   "outputs": [
    {
     "data": {
      "text/plain": [
       "dict_keys(['Invesco_India_Arbitrage_Fund', 'Kotak_Equity_Arbitrage_Fund', 'SBI_Arbitrage_Opportunities_Fund', 'ICICI_Prudential_Equity_Arbitrage_Fund', 'HDFC_Arbitrage_Fund_Wholesale_Plan'])"
      ]
     },
     "execution_count": 191,
     "metadata": {},
     "output_type": "execute_result"
    }
   ],
   "source": [
    "dfs['arbitrage'].keys()"
   ]
  },
  {
   "cell_type": "code",
   "execution_count": 192,
   "metadata": {},
   "outputs": [
    {
     "data": {
      "text/html": [
       "<div>\n",
       "<style scoped>\n",
       "    .dataframe tbody tr th:only-of-type {\n",
       "        vertical-align: middle;\n",
       "    }\n",
       "\n",
       "    .dataframe tbody tr th {\n",
       "        vertical-align: top;\n",
       "    }\n",
       "\n",
       "    .dataframe thead th {\n",
       "        text-align: right;\n",
       "    }\n",
       "</style>\n",
       "<table border=\"1\" class=\"dataframe\">\n",
       "  <thead>\n",
       "    <tr style=\"text-align: right;\">\n",
       "      <th></th>\n",
       "      <th>Net Asset Value_Invesco_India_Arbitrage_Fund</th>\n",
       "    </tr>\n",
       "  </thead>\n",
       "  <tbody>\n",
       "    <tr>\n",
       "      <th>2020-03-02</th>\n",
       "      <td>24.8453</td>\n",
       "    </tr>\n",
       "    <tr>\n",
       "      <th>2020-03-03</th>\n",
       "      <td>24.836</td>\n",
       "    </tr>\n",
       "    <tr>\n",
       "      <th>2020-03-04</th>\n",
       "      <td>24.8369</td>\n",
       "    </tr>\n",
       "    <tr>\n",
       "      <th>2020-03-05</th>\n",
       "      <td>24.8587</td>\n",
       "    </tr>\n",
       "    <tr>\n",
       "      <th>2020-03-06</th>\n",
       "      <td>24.8667</td>\n",
       "    </tr>\n",
       "    <tr>\n",
       "      <th>...</th>\n",
       "      <td>...</td>\n",
       "    </tr>\n",
       "    <tr>\n",
       "      <th>2025-02-14</th>\n",
       "      <td>33.5898</td>\n",
       "    </tr>\n",
       "    <tr>\n",
       "      <th>2025-02-17</th>\n",
       "      <td>33.5797</td>\n",
       "    </tr>\n",
       "    <tr>\n",
       "      <th>2025-02-18</th>\n",
       "      <td>33.6183</td>\n",
       "    </tr>\n",
       "    <tr>\n",
       "      <th>2025-02-19</th>\n",
       "      <td>33.6177</td>\n",
       "    </tr>\n",
       "    <tr>\n",
       "      <th>2025-02-20</th>\n",
       "      <td>33.6235</td>\n",
       "    </tr>\n",
       "  </tbody>\n",
       "</table>\n",
       "<p>1285 rows × 1 columns</p>\n",
       "</div>"
      ],
      "text/plain": [
       "           Net Asset Value_Invesco_India_Arbitrage_Fund\n",
       "2020-03-02                                      24.8453\n",
       "2020-03-03                                       24.836\n",
       "2020-03-04                                      24.8369\n",
       "2020-03-05                                      24.8587\n",
       "2020-03-06                                      24.8667\n",
       "...                                                 ...\n",
       "2025-02-14                                      33.5898\n",
       "2025-02-17                                      33.5797\n",
       "2025-02-18                                      33.6183\n",
       "2025-02-19                                      33.6177\n",
       "2025-02-20                                      33.6235\n",
       "\n",
       "[1285 rows x 1 columns]"
      ]
     },
     "execution_count": 192,
     "metadata": {},
     "output_type": "execute_result"
    }
   ],
   "source": [
    "dfs['arbitrage']['Invesco_India_Arbitrage_Fund']"
   ]
  },
  {
   "cell_type": "code",
   "execution_count": 193,
   "metadata": {},
   "outputs": [
    {
     "name": "stdout",
     "output_type": "stream",
     "text": [
      "1285\n",
      "1285\n",
      "1288\n",
      "1285\n",
      "1285\n"
     ]
    }
   ],
   "source": [
    "for df in dfs['arbitrage'].values():\n",
    "\n",
    "    print(len(df.index))"
   ]
  },
  {
   "cell_type": "code",
   "execution_count": 194,
   "metadata": {},
   "outputs": [
    {
     "name": "stdout",
     "output_type": "stream",
     "text": [
      "arbitrage:\n",
      "Invesco_India_Arbitrage_Fund: 1285\n",
      "Kotak_Equity_Arbitrage_Fund: 1285\n",
      "SBI_Arbitrage_Opportunities_Fund: 1288\n",
      "ICICI_Prudential_Equity_Arbitrage_Fund: 1285\n",
      "HDFC_Arbitrage_Fund_Wholesale_Plan: 1285\n",
      "multi_asset:\n",
      "SBI_Multi_Asset_Allocation_Fund: 1263\n",
      "ICICI_Prudential_Multi_Asset_Fund: 1285\n",
      "Nippon_India_Multi_Asset_Allocation_Fund: 1106\n",
      "Kotak_Multi_Asset_Allocation_Fund: 343\n",
      "UTI_Multi_Asset_Allocation_Fund: 1285\n",
      "conservative_hybrid:\n",
      "HDFC_Hybrid_Debt_Fund: 1261\n",
      "SBI_Conservative_Hybrid_Fund: 1263\n",
      "Kotak_Debt_Hybrid_Fund: 1260\n",
      "ICICI_Prudential_Regular_Savings_Fund: 1260\n",
      "UTI_Conservative_Hybrid_Fund: 1260\n",
      "equity_savings:\n",
      "ICICI_Prudential_Equity_Savings_Fund: 1285\n",
      "HDFC_Equity_Savings_Fund: 1285\n",
      "Kotak_Equity_Savings_Fund: 1285\n",
      "SBI_Equity_Savings_Fund: 1289\n",
      "DSP_Equity_Savings_Fund: 1285\n",
      "aggressive_hybrid:\n",
      "Canara_Robeco_Equity_Hybrid_fund: 1285\n",
      "DSP_Aggresive_Hybrid_Fund: 1285\n",
      "HDFC_Hybrid_Equity_Fund: 1285\n",
      "SBI_Equity_Hybrid_Fund: 1288\n",
      "ICICI_Prudential_Equity_and_Debt_Fund: 1285\n"
     ]
    }
   ],
   "source": [
    "for big_key in dfs.keys():\n",
    "    print(f\"{big_key}:\")\n",
    "    for key, df in dfs[big_key].items():\n",
    "        print(f\"{key}: {len(df.index)}\")"
   ]
  },
  {
   "cell_type": "code",
   "execution_count": null,
   "metadata": {},
   "outputs": [],
   "source": []
  },
  {
   "cell_type": "code",
   "execution_count": 195,
   "metadata": {},
   "outputs": [
    {
     "ename": "InvalidIndexError",
     "evalue": "Reindexing only valid with uniquely valued Index objects",
     "output_type": "error",
     "traceback": [
      "\u001b[0;31m---------------------------------------------------------------------------\u001b[0m",
      "\u001b[0;31mInvalidIndexError\u001b[0m                         Traceback (most recent call last)",
      "Cell \u001b[0;32mIn[195], line 1\u001b[0m\n\u001b[0;32m----> 1\u001b[0m df_merged \u001b[38;5;241m=\u001b[39m pd\u001b[38;5;241m.\u001b[39mconcat(\u001b[38;5;28mlist\u001b[39m(dfs[\u001b[38;5;124m'\u001b[39m\u001b[38;5;124marbitrage\u001b[39m\u001b[38;5;124m'\u001b[39m]\u001b[38;5;241m.\u001b[39mvalues())[\u001b[38;5;241m1\u001b[39m:\u001b[38;5;241m3\u001b[39m], axis\u001b[38;5;241m=\u001b[39m\u001b[38;5;241m1\u001b[39m)\n",
      "File \u001b[0;32m~/opt/anaconda3/envs/north/lib/python3.12/site-packages/pandas/core/reshape/concat.py:395\u001b[0m, in \u001b[0;36mconcat\u001b[0;34m(objs, axis, join, ignore_index, keys, levels, names, verify_integrity, sort, copy)\u001b[0m\n\u001b[1;32m    380\u001b[0m     copy \u001b[38;5;241m=\u001b[39m \u001b[38;5;28;01mFalse\u001b[39;00m\n\u001b[1;32m    382\u001b[0m op \u001b[38;5;241m=\u001b[39m _Concatenator(\n\u001b[1;32m    383\u001b[0m     objs,\n\u001b[1;32m    384\u001b[0m     axis\u001b[38;5;241m=\u001b[39maxis,\n\u001b[0;32m   (...)\u001b[0m\n\u001b[1;32m    392\u001b[0m     sort\u001b[38;5;241m=\u001b[39msort,\n\u001b[1;32m    393\u001b[0m )\n\u001b[0;32m--> 395\u001b[0m \u001b[38;5;28;01mreturn\u001b[39;00m op\u001b[38;5;241m.\u001b[39mget_result()\n",
      "File \u001b[0;32m~/opt/anaconda3/envs/north/lib/python3.12/site-packages/pandas/core/reshape/concat.py:680\u001b[0m, in \u001b[0;36m_Concatenator.get_result\u001b[0;34m(self)\u001b[0m\n\u001b[1;32m    678\u001b[0m         obj_labels \u001b[38;5;241m=\u001b[39m obj\u001b[38;5;241m.\u001b[39maxes[\u001b[38;5;241m1\u001b[39m \u001b[38;5;241m-\u001b[39m ax]\n\u001b[1;32m    679\u001b[0m         \u001b[38;5;28;01mif\u001b[39;00m \u001b[38;5;129;01mnot\u001b[39;00m new_labels\u001b[38;5;241m.\u001b[39mequals(obj_labels):\n\u001b[0;32m--> 680\u001b[0m             indexers[ax] \u001b[38;5;241m=\u001b[39m obj_labels\u001b[38;5;241m.\u001b[39mget_indexer(new_labels)\n\u001b[1;32m    682\u001b[0m     mgrs_indexers\u001b[38;5;241m.\u001b[39mappend((obj\u001b[38;5;241m.\u001b[39m_mgr, indexers))\n\u001b[1;32m    684\u001b[0m new_data \u001b[38;5;241m=\u001b[39m concatenate_managers(\n\u001b[1;32m    685\u001b[0m     mgrs_indexers, \u001b[38;5;28mself\u001b[39m\u001b[38;5;241m.\u001b[39mnew_axes, concat_axis\u001b[38;5;241m=\u001b[39m\u001b[38;5;28mself\u001b[39m\u001b[38;5;241m.\u001b[39mbm_axis, copy\u001b[38;5;241m=\u001b[39m\u001b[38;5;28mself\u001b[39m\u001b[38;5;241m.\u001b[39mcopy\n\u001b[1;32m    686\u001b[0m )\n",
      "File \u001b[0;32m~/opt/anaconda3/envs/north/lib/python3.12/site-packages/pandas/core/indexes/base.py:3885\u001b[0m, in \u001b[0;36mIndex.get_indexer\u001b[0;34m(self, target, method, limit, tolerance)\u001b[0m\n\u001b[1;32m   3882\u001b[0m \u001b[38;5;28mself\u001b[39m\u001b[38;5;241m.\u001b[39m_check_indexing_method(method, limit, tolerance)\n\u001b[1;32m   3884\u001b[0m \u001b[38;5;28;01mif\u001b[39;00m \u001b[38;5;129;01mnot\u001b[39;00m \u001b[38;5;28mself\u001b[39m\u001b[38;5;241m.\u001b[39m_index_as_unique:\n\u001b[0;32m-> 3885\u001b[0m     \u001b[38;5;28;01mraise\u001b[39;00m InvalidIndexError(\u001b[38;5;28mself\u001b[39m\u001b[38;5;241m.\u001b[39m_requires_unique_msg)\n\u001b[1;32m   3887\u001b[0m \u001b[38;5;28;01mif\u001b[39;00m \u001b[38;5;28mlen\u001b[39m(target) \u001b[38;5;241m==\u001b[39m \u001b[38;5;241m0\u001b[39m:\n\u001b[1;32m   3888\u001b[0m     \u001b[38;5;28;01mreturn\u001b[39;00m np\u001b[38;5;241m.\u001b[39marray([], dtype\u001b[38;5;241m=\u001b[39mnp\u001b[38;5;241m.\u001b[39mintp)\n",
      "\u001b[0;31mInvalidIndexError\u001b[0m: Reindexing only valid with uniquely valued Index objects"
     ]
    }
   ],
   "source": [
    "df_merged = pd.concat(list(dfs['arbitrage'].values())[1:3], axis=1)"
   ]
  },
  {
   "cell_type": "code",
   "execution_count": null,
   "metadata": {},
   "outputs": [
    {
     "data": {
      "text/plain": [
       "[           Net Asset Value_Kotak_Equity_Arbitrage_Fund\n",
       " 2020-03-02                                     28.9058\n",
       " 2020-03-03                                     28.8917\n",
       " 2020-03-04                                     28.8987\n",
       " 2020-03-05                                     28.9122\n",
       " 2020-03-06                                     28.9292\n",
       " ...                                                ...\n",
       " 2025-02-14                                     38.9752\n",
       " 2025-02-17                                     38.9679\n",
       " 2025-02-18                                     39.0128\n",
       " 2025-02-19                                     39.0094\n",
       " 2025-02-20                                     39.0103\n",
       " \n",
       " [1229 rows x 1 columns],\n",
       "            Net Asset Value_SBI_Arbitrage_Opportunities_Fund\n",
       " 2020-03-02                                          26.3494\n",
       " 2020-03-03                                          26.3293\n",
       " 2020-03-04                                          26.3292\n",
       " 2020-03-05                                          26.3461\n",
       " 2020-03-06                                          26.3748\n",
       " ...                                                     ...\n",
       " 2025-02-14                                          34.9810\n",
       " 2025-02-17                                          34.9729\n",
       " 2025-02-18                                          35.0093\n",
       " 2025-02-19                                          35.0097\n",
       " 2025-02-20                                          35.0120\n",
       " \n",
       " [1232 rows x 1 columns]]"
      ]
     },
     "execution_count": 179,
     "metadata": {},
     "output_type": "execute_result"
    }
   ],
   "source": [
    "list(dfs['arbitrage'].values())[1:3]"
   ]
  },
  {
   "cell_type": "code",
   "execution_count": null,
   "metadata": {},
   "outputs": [],
   "source": [
    "index1 = list(dfs['arbitrage'].values())[1].index\n",
    "index2 = list(dfs['arbitrage'].values())[2].index"
   ]
  },
  {
   "cell_type": "code",
   "execution_count": null,
   "metadata": {},
   "outputs": [
    {
     "data": {
      "text/plain": [
       "DatetimeIndex(['2020-03-02', '2020-03-03', '2020-03-04', '2020-03-05',\n",
       "               '2020-03-06', '2020-03-09', '2020-03-11', '2020-03-12',\n",
       "               '2020-03-13', '2020-03-16',\n",
       "               ...\n",
       "               '2025-02-07', '2025-02-10', '2025-02-11', '2025-02-12',\n",
       "               '2025-02-13', '2025-02-14', '2025-02-17', '2025-02-18',\n",
       "               '2025-02-19', '2025-02-20'],\n",
       "              dtype='datetime64[ns]', length=1229, freq=None)"
      ]
     },
     "execution_count": 181,
     "metadata": {},
     "output_type": "execute_result"
    }
   ],
   "source": [
    "index1"
   ]
  },
  {
   "cell_type": "code",
   "execution_count": null,
   "metadata": {},
   "outputs": [],
   "source": []
  },
  {
   "cell_type": "code",
   "execution_count": null,
   "metadata": {},
   "outputs": [
    {
     "data": {
      "text/plain": [
       "DatetimeIndex(['2020-03-02', '2020-03-03', '2020-03-04', '2020-03-05',\n",
       "               '2020-03-06', '2020-03-09', '2020-03-11', '2020-03-12',\n",
       "               '2020-03-13', '2020-03-16',\n",
       "               ...\n",
       "               '2025-02-07', '2025-02-10', '2025-02-11', '2025-02-12',\n",
       "               '2025-02-13', '2025-02-14', '2025-02-17', '2025-02-18',\n",
       "               '2025-02-19', '2025-02-20'],\n",
       "              dtype='datetime64[ns]', length=1232, freq=None)"
      ]
     },
     "execution_count": 182,
     "metadata": {},
     "output_type": "execute_result"
    }
   ],
   "source": [
    "index2"
   ]
  },
  {
   "cell_type": "code",
   "execution_count": null,
   "metadata": {},
   "outputs": [
    {
     "data": {
      "text/plain": [
       "DatetimeIndex(['2020-03-02', '2020-03-03', '2020-03-04', '2020-03-05',\n",
       "               '2020-03-06', '2020-03-09', '2020-03-11', '2020-03-12',\n",
       "               '2020-03-13', '2020-03-16',\n",
       "               ...\n",
       "               '2025-02-07', '2025-02-10', '2025-02-11', '2025-02-12',\n",
       "               '2025-02-13', '2025-02-14', '2025-02-17', '2025-02-18',\n",
       "               '2025-02-19', '2025-02-20'],\n",
       "              dtype='datetime64[ns]', length=1229, freq=None)"
      ]
     },
     "execution_count": 183,
     "metadata": {},
     "output_type": "execute_result"
    }
   ],
   "source": [
    "index1.unique()"
   ]
  },
  {
   "cell_type": "code",
   "execution_count": null,
   "metadata": {},
   "outputs": [
    {
     "data": {
      "text/plain": [
       "DatetimeIndex(['2020-03-02', '2020-03-03', '2020-03-04', '2020-03-05',\n",
       "               '2020-03-06', '2020-03-09', '2020-03-11', '2020-03-12',\n",
       "               '2020-03-13', '2020-03-16',\n",
       "               ...\n",
       "               '2025-02-07', '2025-02-10', '2025-02-11', '2025-02-12',\n",
       "               '2025-02-13', '2025-02-14', '2025-02-17', '2025-02-18',\n",
       "               '2025-02-19', '2025-02-20'],\n",
       "              dtype='datetime64[ns]', length=1232, freq=None)"
      ]
     },
     "execution_count": 184,
     "metadata": {},
     "output_type": "execute_result"
    }
   ],
   "source": [
    "index2.unique()"
   ]
  },
  {
   "cell_type": "code",
   "execution_count": null,
   "metadata": {},
   "outputs": [
    {
     "data": {
      "text/html": [
       "<div>\n",
       "<style scoped>\n",
       "    .dataframe tbody tr th:only-of-type {\n",
       "        vertical-align: middle;\n",
       "    }\n",
       "\n",
       "    .dataframe tbody tr th {\n",
       "        vertical-align: top;\n",
       "    }\n",
       "\n",
       "    .dataframe thead th {\n",
       "        text-align: right;\n",
       "    }\n",
       "</style>\n",
       "<table border=\"1\" class=\"dataframe\">\n",
       "  <thead>\n",
       "    <tr style=\"text-align: right;\">\n",
       "      <th></th>\n",
       "      <th>Net Asset Value_Kotak_Equity_Arbitrage_Fund</th>\n",
       "      <th>Net Asset Value_SBI_Arbitrage_Opportunities_Fund</th>\n",
       "    </tr>\n",
       "  </thead>\n",
       "  <tbody>\n",
       "    <tr>\n",
       "      <th>2020-03-02</th>\n",
       "      <td>28.9058</td>\n",
       "      <td>26.3494</td>\n",
       "    </tr>\n",
       "    <tr>\n",
       "      <th>2020-03-03</th>\n",
       "      <td>28.8917</td>\n",
       "      <td>26.3293</td>\n",
       "    </tr>\n",
       "    <tr>\n",
       "      <th>2020-03-04</th>\n",
       "      <td>28.8987</td>\n",
       "      <td>26.3292</td>\n",
       "    </tr>\n",
       "    <tr>\n",
       "      <th>2020-03-05</th>\n",
       "      <td>28.9122</td>\n",
       "      <td>26.3461</td>\n",
       "    </tr>\n",
       "    <tr>\n",
       "      <th>2020-03-06</th>\n",
       "      <td>28.9292</td>\n",
       "      <td>26.3748</td>\n",
       "    </tr>\n",
       "    <tr>\n",
       "      <th>...</th>\n",
       "      <td>...</td>\n",
       "      <td>...</td>\n",
       "    </tr>\n",
       "    <tr>\n",
       "      <th>2025-02-14</th>\n",
       "      <td>38.9752</td>\n",
       "      <td>34.9810</td>\n",
       "    </tr>\n",
       "    <tr>\n",
       "      <th>2025-02-17</th>\n",
       "      <td>38.9679</td>\n",
       "      <td>34.9729</td>\n",
       "    </tr>\n",
       "    <tr>\n",
       "      <th>2025-02-18</th>\n",
       "      <td>39.0128</td>\n",
       "      <td>35.0093</td>\n",
       "    </tr>\n",
       "    <tr>\n",
       "      <th>2025-02-19</th>\n",
       "      <td>39.0094</td>\n",
       "      <td>35.0097</td>\n",
       "    </tr>\n",
       "    <tr>\n",
       "      <th>2025-02-20</th>\n",
       "      <td>39.0103</td>\n",
       "      <td>35.0120</td>\n",
       "    </tr>\n",
       "  </tbody>\n",
       "</table>\n",
       "<p>1232 rows × 2 columns</p>\n",
       "</div>"
      ],
      "text/plain": [
       "           Net Asset Value_Kotak_Equity_Arbitrage_Fund  \\\n",
       "2020-03-02                                     28.9058   \n",
       "2020-03-03                                     28.8917   \n",
       "2020-03-04                                     28.8987   \n",
       "2020-03-05                                     28.9122   \n",
       "2020-03-06                                     28.9292   \n",
       "...                                                ...   \n",
       "2025-02-14                                     38.9752   \n",
       "2025-02-17                                     38.9679   \n",
       "2025-02-18                                     39.0128   \n",
       "2025-02-19                                     39.0094   \n",
       "2025-02-20                                     39.0103   \n",
       "\n",
       "           Net Asset Value_SBI_Arbitrage_Opportunities_Fund  \n",
       "2020-03-02                                          26.3494  \n",
       "2020-03-03                                          26.3293  \n",
       "2020-03-04                                          26.3292  \n",
       "2020-03-05                                          26.3461  \n",
       "2020-03-06                                          26.3748  \n",
       "...                                                     ...  \n",
       "2025-02-14                                          34.9810  \n",
       "2025-02-17                                          34.9729  \n",
       "2025-02-18                                          35.0093  \n",
       "2025-02-19                                          35.0097  \n",
       "2025-02-20                                          35.0120  \n",
       "\n",
       "[1232 rows x 2 columns]"
      ]
     },
     "execution_count": 185,
     "metadata": {},
     "output_type": "execute_result"
    }
   ],
   "source": [
    "df_merged"
   ]
  },
  {
   "cell_type": "code",
   "execution_count": null,
   "metadata": {},
   "outputs": [],
   "source": []
  }
 ],
 "metadata": {
  "kernelspec": {
   "display_name": "north",
   "language": "python",
   "name": "python3"
  },
  "language_info": {
   "codemirror_mode": {
    "name": "ipython",
    "version": 3
   },
   "file_extension": ".py",
   "mimetype": "text/x-python",
   "name": "python",
   "nbconvert_exporter": "python",
   "pygments_lexer": "ipython3",
   "version": "3.12.7"
  }
 },
 "nbformat": 4,
 "nbformat_minor": 2
}
