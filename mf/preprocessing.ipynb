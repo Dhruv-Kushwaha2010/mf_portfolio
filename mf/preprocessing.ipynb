{
 "cells": [
  {
   "cell_type": "code",
   "execution_count": 2,
   "metadata": {},
   "outputs": [],
   "source": [
    "import pandas as pd\n",
    "import numpy as np\n",
    "import datetime as dt\n",
    "import plotly.express as px\n",
    "import plotly.graph_objects as go\n",
    "import os\n",
    "from tqdm import tqdm"
   ]
  },
  {
   "cell_type": "markdown",
   "metadata": {},
   "source": [
    "## Put this script in the directory in which you want to convert the doc file into docx file and then run it"
   ]
  },
  {
   "cell_type": "code",
   "execution_count": 3,
   "metadata": {},
   "outputs": [
    {
     "name": "stdout",
     "output_type": "stream",
     "text": [
      "convert /Users/northstar/Projects/portfolio/mf/data/multi_asset/HDFC_Multi_Asset_Fund.doc as a Writer/Web document -> /Users/northstar/Projects/portfolio/mf/data/multi_asset/HDFC_Multi_Asset_Fund.docx using filter : MS Word 2007 XML\n",
      "Conversion successful\n",
      "Total files converted: 1\n"
     ]
    }
   ],
   "source": [
    "cnt = 0\n",
    "curr_dir = os.path.dirname(os.path.realpath(__name__))\n",
    "try:\n",
    "    for file in os.listdir(curr_dir):\n",
    "        # print(file)\n",
    "        if not file.endswith(\".doc\"):\n",
    "            continue\n",
    "        file_path = os.path.join(curr_dir, file)\n",
    "        command = f\"soffice --headless --convert-to docx:\\\"MS Word 2007 XML\\\" {file_path}\"\n",
    "        try:\n",
    "            result = os.system(command)\n",
    "            if result == 0:\n",
    "                print(\"Conversion successful\")\n",
    "                cnt += 1\n",
    "            else:\n",
    "                print(f\"Conversion failed for {file_path}\")\n",
    "        except Exception as e:\n",
    "            print(\"Error occurred:\", str(e))\n",
    "            \n",
    "except:\n",
    "    pass\n",
    "\n",
    "\n",
    "print(f\"Total files converted: {cnt}\")"
   ]
  },
  {
   "cell_type": "code",
   "execution_count": 4,
   "metadata": {},
   "outputs": [
    {
     "name": "stdout",
     "output_type": "stream",
     "text": [
      "File removed successfully\n",
      "Total files removed: 1\n"
     ]
    }
   ],
   "source": [
    "\n",
    "cnt_rmv = 0\n",
    "curr_dir = os.path.dirname(os.path.realpath(__name__))\n",
    "try:\n",
    "    for file in os.listdir(curr_dir):\n",
    "        # print(file)\n",
    "        if not file.endswith(\".doc\"):\n",
    "            continue\n",
    "        file_path = os.path.join(curr_dir, file)\n",
    "\n",
    "        command = f\"rm {file_path}\"\n",
    "        try:\n",
    "            result = os.system(command)\n",
    "            if result == 0:\n",
    "                print(\"File removed successfully\")\n",
    "                cnt_rmv += 1\n",
    "            else:\n",
    "                print(f\"File removal failed for {file_path}\")\n",
    "        except Exception as e:\n",
    "            print(\"Error occurred:\", str(e))\n",
    "            \n",
    "except:\n",
    "    pass\n",
    "\n",
    "print(f\"Total files removed: {cnt_rmv}\")"
   ]
  },
  {
   "cell_type": "code",
   "execution_count": null,
   "metadata": {},
   "outputs": [],
   "source": []
  }
 ],
 "metadata": {
  "kernelspec": {
   "display_name": "north",
   "language": "python",
   "name": "python3"
  },
  "language_info": {
   "codemirror_mode": {
    "name": "ipython",
    "version": 3
   },
   "file_extension": ".py",
   "mimetype": "text/x-python",
   "name": "python",
   "nbconvert_exporter": "python",
   "pygments_lexer": "ipython3",
   "version": "3.12.7"
  }
 },
 "nbformat": 4,
 "nbformat_minor": 2
}
